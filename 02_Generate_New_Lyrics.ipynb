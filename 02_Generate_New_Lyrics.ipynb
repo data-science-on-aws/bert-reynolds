{
 "cells": [
  {
   "cell_type": "code",
   "execution_count": null,
   "metadata": {},
   "outputs": [],
   "source": [
    "import pandas as pd\n",
    "\n",
    "df_lyrics = pd.read_csv('./data/lyrics.csv')\n",
    "#df_lyrics = pd.read_csv('./data/country_lyrics.csv')\n",
    "df_lyrics.shape"
   ]
  },
  {
   "cell_type": "code",
   "execution_count": null,
   "metadata": {},
   "outputs": [],
   "source": [
    "df_lyrics.head(5)"
   ]
  },
  {
   "cell_type": "code",
   "execution_count": null,
   "metadata": {},
   "outputs": [],
   "source": [
    "df_country_lyrics = df_lyrics.where(df_lyrics.genre == 'Country').dropna().reset_index()\n",
    "df_country_lyrics.shape"
   ]
  },
  {
   "cell_type": "code",
   "execution_count": null,
   "metadata": {},
   "outputs": [],
   "source": [
    "df_country_lyrics.head(5)"
   ]
  },
  {
   "cell_type": "code",
   "execution_count": null,
   "metadata": {},
   "outputs": [],
   "source": [
    "df_alan_jackson_lyrics = df_lyrics.where(df_lyrics.artist == 'alan-jackson').dropna().reset_index()\n",
    "df_alan_jackson_lyrics.shape"
   ]
  },
  {
   "cell_type": "code",
   "execution_count": null,
   "metadata": {},
   "outputs": [],
   "source": [
    "df_alan_jackson_lyrics.head(5)"
   ]
  },
  {
   "cell_type": "code",
   "execution_count": null,
   "metadata": {
    "scrolled": true
   },
   "outputs": [],
   "source": [
    "df_alan_jackson_lyrics.lyrics[0]"
   ]
  },
  {
   "cell_type": "code",
   "execution_count": null,
   "metadata": {},
   "outputs": [],
   "source": [
    "!pip install -qU pip\n",
    "!pip install -qU torch==1.4.0\n",
    "!pip install -qU transformers==2.8.0"
   ]
  },
  {
   "cell_type": "code",
   "execution_count": null,
   "metadata": {},
   "outputs": [],
   "source": [
    "\"\"\" \n",
    "Conditional text generation with the auto-regressive models of the library\n",
    "(GPT/GPT-2/CTRL/Transformer-XL/XLNet)\n",
    "\"\"\"\n",
    "\n",
    "import logging\n",
    "\n",
    "import numpy as np\n",
    "import torch\n",
    "\n",
    "from transformers import (\n",
    "    CTRLLMHeadModel,\n",
    "    CTRLTokenizer,\n",
    "    GPT2LMHeadModel,\n",
    "    GPT2Tokenizer,\n",
    "    OpenAIGPTLMHeadModel,\n",
    "    OpenAIGPTTokenizer,\n",
    "    TransfoXLLMHeadModel,\n",
    "    TransfoXLTokenizer,\n",
    "    XLMTokenizer,\n",
    "    XLMWithLMHeadModel,\n",
    "    XLNetLMHeadModel,\n",
    "    XLNetTokenizer,\n",
    ")\n",
    "\n",
    "logging.basicConfig(\n",
    "    format=\"%(asctime)s - %(levelname)s - %(name)s -   %(message)s\", datefmt=\"%m/%d/%Y %H:%M:%S\", level=logging.INFO,\n",
    ")\n",
    "logger = logging.getLogger(__name__)\n",
    "\n",
    "MAX_LENGTH = int(10000)  # Hardcoded max length to avoid infinite loop\n",
    "\n",
    "MODEL_CLASSES = {\n",
    "    \"gpt2\": (GPT2LMHeadModel, GPT2Tokenizer),\n",
    "    \"ctrl\": (CTRLLMHeadModel, CTRLTokenizer),\n",
    "    \"openai-gpt\": (OpenAIGPTLMHeadModel, OpenAIGPTTokenizer),\n",
    "    \"xlnet\": (XLNetLMHeadModel, XLNetTokenizer),\n",
    "    \"transfo-xl\": (TransfoXLLMHeadModel, TransfoXLTokenizer),\n",
    "    \"xlm\": (XLMWithLMHeadModel, XLMTokenizer),\n",
    "}\n",
    "\n",
    "# Padding text to help Transformer-XL and XLNet with short prompts as proposed by Aman Rusia\n",
    "# in https://github.com/rusiaaman/XLNet-gen#methodology\n",
    "# and https://medium.com/@amanrusia/xlnet-speaks-comparison-to-gpt-2-ea1a4e9ba39e\n",
    "PADDING_TEXT = \"\"\"In 1991, the remains of Russian Tsar Nicholas II and his family\n",
    "(except for Alexei and Maria) are discovered.\n",
    "The voice of Nicholas's young son, Tsarevich Alexei Nikolaevich, narrates the\n",
    "remainder of the story. 1883 Western Siberia,\n",
    "a young Grigori Rasputin is asked by his father and a group of men to perform magic.\n",
    "Rasputin has a vision and denounces one of the men as a horse thief. Although his\n",
    "father initially slaps him for making such an accusation, Rasputin watches as the\n",
    "man is chased outside and beaten. Twenty years later, Rasputin sees a vision of\n",
    "the Virgin Mary, prompting him to become a priest. Rasputin quickly becomes famous,\n",
    "with people, even a bishop, begging for his blessing. <eod> </s> <eos>\"\"\"\n",
    "\n",
    "\n",
    "def set_seed(seed, n_gpu):\n",
    "    np.random.seed(seed)\n",
    "    torch.manual_seed(seed)\n",
    "    if n_gpu > 0:\n",
    "        torch.cuda.manual_seed_all(seed)\n",
    "\n",
    "#\n",
    "# Functions to prepare models' input\n",
    "#\n",
    "\n",
    "\n",
    "def prepare_ctrl_input(temperature, _, tokenizer, prompt_text):\n",
    "    if temperature > 0.7:\n",
    "        logger.info(\"CTRL typically works better with lower temperatures (and lower top_k).\")\n",
    "\n",
    "    encoded_prompt = tokenizer.encode(prompt_text, add_special_tokens=False)\n",
    "    if not any(encoded_prompt[0] == x for x in tokenizer.control_codes.values()):\n",
    "        logger.info(\"WARNING! You are not starting your generation from a control code so you won't get good results\")\n",
    "    return prompt_text\n",
    "\n",
    "\n",
    "def prepare_xlm_input(xlm_language, model, tokenizer, prompt_text):\n",
    "    # kwargs = {\"language\": None, \"mask_token_id\": None}\n",
    "\n",
    "    # Set the language\n",
    "    use_lang_emb = hasattr(model.config, \"use_lang_emb\") and model.config.use_lang_emb\n",
    "    if hasattr(model.config, \"lang2id\") and use_lang_emb:\n",
    "        available_languages = model.config.lang2id.keys()\n",
    "        if xlm_language in available_languages:\n",
    "            language = xlm_language\n",
    "        else:\n",
    "            language = None\n",
    "            while language not in available_languages:\n",
    "                language = input(\"Using XLM. Select language in \" + str(list(available_languages)) + \" >>> \")\n",
    "\n",
    "        model.config.lang_id = model.config.lang2id[language]\n",
    "        # kwargs[\"language\"] = tokenizer.lang2id[language]\n",
    "\n",
    "    # TODO fix mask_token_id setup when configurations will be synchronized between models and tokenizers\n",
    "    # XLM masked-language modeling (MLM) models need masked token\n",
    "    # is_xlm_mlm = \"mlm\" in args.model_name_or_path\n",
    "    # if is_xlm_mlm:\n",
    "    #     kwargs[\"mask_token_id\"] = tokenizer.mask_token_id\n",
    "\n",
    "    return prompt_text\n",
    "\n",
    "\n",
    "def prepare_xlnet_input(padding_text, _, tokenizer, prompt_text):\n",
    "     prompt_text = (padding_text if padding_text else PADDING_TEXT) + prompt_text\n",
    "     return prompt_text\n",
    "\n",
    "\n",
    "def prepare_transfoxl_input(padding_text, _, tokenizer, prompt_text):\n",
    "    prompt_text = (padding_text if padding_text else PADDING_TEXT) + prompt_text\n",
    "    return prompt_text\n",
    "\n",
    "\n",
    "PREPROCESSING_FUNCTIONS = {\n",
    "    \"ctrl\": 'blah',\n",
    "    \"xlm\": 'blah',\n",
    "    \"xlnet\": 'blah',\n",
    "    \"transfo-xl\": 'blah',\n",
    "}\n",
    "\n",
    "\n",
    "def adjust_length_to_model(length, max_sequence_length):\n",
    "    if length < 0 and max_sequence_length > 0:\n",
    "        length = max_sequence_length\n",
    "    elif 0 < max_sequence_length < length:\n",
    "        length = max_sequence_length  # No generation bigger than model size\n",
    "    elif length < 0:\n",
    "        length = MAX_LENGTH  # avoid infinite loop\n",
    "    return length\n",
    "\n",
    "\n",
    "def generate(model_type, lyric):\n",
    "    print(model_type)\n",
    "\n",
    "    model_name_or_path = ''\n",
    "    if model_type == 'gpt2':\n",
    "        model_name_or_path='gpt2'\n",
    "\n",
    "    if model_type == 'xlnet':\n",
    "        model_name_or_path='xlnet-base-cased'\n",
    "\n",
    "    if model_type == 'ctrl':\n",
    "        model_name_or_path='ctrl'\n",
    "\n",
    "    if model_type == 'xlm':\n",
    "        model_name_or_path='xlm-mlm-en-2048'\n",
    "\n",
    "    if model_type == 'transfo-xl':\n",
    "        model_name_or_path='transfo-xl-wt103'\n",
    "\n",
    "    print(model_name_or_path)\n",
    "\n",
    "    length=20\n",
    "    stop_token=None # Token at which text generation is stopped\n",
    "\n",
    "    temperature=1.0 # Temperature of 1.0 has no effect, lower tend toward greedy sampling\n",
    "    repetition_penalty=1.0 # Primarily useful for CTRL model; in that case, use 1.2\n",
    "    k=0\n",
    "    p=0.9\n",
    "    padding_text='' # Padding text for Transfo-XL and XLNet.\n",
    "    xlm_language='' # Optional language when used with the XLM model.\n",
    "    seed=42 # Random seed for initialization\n",
    "    no_cuda=True # Avoid using CUDA when available\n",
    "    num_return_sequences=1 # The number of samples to generate\n",
    "    device = torch.device(\"cuda\" if torch.cuda.is_available() and not no_cuda else \"cpu\")\n",
    "    n_gpu = 0 if no_cuda else torch.cuda.device_count()\n",
    "\n",
    "    set_seed(seed, n_gpu)\n",
    "\n",
    "    # Initialize the model and tokenizer\n",
    "    try:\n",
    "        model_type = model_type.lower()\n",
    "        model_class, tokenizer_class = MODEL_CLASSES[model_type]\n",
    "    except KeyError:\n",
    "        raise KeyError(\"the model {} you specified is not supported. You are welcome to add it and open a PR :)\")\n",
    "\n",
    "    tokenizer = tokenizer_class.from_pretrained(model_name_or_path)\n",
    "    model = model_class.from_pretrained(model_name_or_path)\n",
    "    model.to(device)\n",
    "\n",
    "    length = adjust_length_to_model(length, max_sequence_length=model.config.max_position_embeddings)\n",
    "\n",
    "    prompt_text = lyric if lyric else input(\"Lyric? >>> \")\n",
    "\n",
    "    # Different models need different input formatting and/or extra arguments\n",
    "    requires_preprocessing = model_type in PREPROCESSING_FUNCTIONS.keys()\n",
    "\n",
    "    preprocessed_prompt_text = None\n",
    "\n",
    "    if requires_preprocessing:\n",
    "        if model_type == \"ctrl\": \n",
    "            preprocessed_prompt_text = prepare_ctrl_input(temperature, model, tokenizer, prompt_text)\n",
    "        if model_type == \"xlm\": \n",
    "            preprocessed_prompt_text = prepare_xlm_input(xlm_language, model, tokenizer, prompt_text)\n",
    "        if model_type == \"xlnet\": \n",
    "            preprocessed_prompt_text = prepare_xlnet_input(padding_text, model, tokenizer, prompt_text)\n",
    "        if model_type == \"transfo-xl\": \n",
    "            preprocessed_prompt_text = prepare_transfoxl_input(padding_text, model, tokenizer, prompt_text)\n",
    "\n",
    "        encoded_prompt = tokenizer.encode(\n",
    "            preprocessed_prompt_text, add_special_tokens=False, return_tensors=\"pt\", add_space_before_punct_symbol=True\n",
    "        )\n",
    "    else:\n",
    "        encoded_prompt = tokenizer.encode(prompt_text, add_special_tokens=False, return_tensors=\"pt\")\n",
    "    encoded_prompt = encoded_prompt.to(device)\n",
    "\n",
    "    output_sequences = model.generate(\n",
    "        input_ids=encoded_prompt,\n",
    "        max_length=length + len(encoded_prompt[0]),\n",
    "        temperature=temperature,\n",
    "        top_k=k,\n",
    "        top_p=p,\n",
    "        repetition_penalty=repetition_penalty,\n",
    "        do_sample=True,\n",
    "        num_return_sequences=num_return_sequences,\n",
    "    )\n",
    "\n",
    "    # Remove the batch dimension when returning multiple sequences\n",
    "    if len(output_sequences.shape) > 2:\n",
    "        output_sequences.squeeze_()\n",
    "\n",
    "    generated_sequences = []\n",
    "\n",
    "    for generated_sequence_idx, generated_sequence in enumerate(output_sequences):\n",
    "        print(\"=== GENERATED SEQUENCE {} ===\".format(generated_sequence_idx + 1))\n",
    "        generated_sequence = generated_sequence.tolist()\n",
    "\n",
    "        # Decode text\n",
    "        text = tokenizer.decode(generated_sequence, clean_up_tokenization_spaces=True)\n",
    "\n",
    "        # Remove all text after the stop token\n",
    "        text = text[: text.find(stop_token) if stop_token else None]\n",
    "\n",
    "        # Add the prompt at the beginning of the sequence. Remove the excess text that was used for pre-processing\n",
    "        total_sequence = (\n",
    "            prompt_text + '\\n**' + model_type + '**' + text[len(tokenizer.decode(encoded_prompt[0], clean_up_tokenization_spaces=True)) :] + '\\n**' + model_type + '**\\n'\n",
    "        )\n",
    "\n",
    "        generated_sequences.append(total_sequence)\n",
    "        print(total_sequence)\n",
    "        \n",
    "    return generated_sequences\n"
   ]
  },
  {
   "cell_type": "code",
   "execution_count": null,
   "metadata": {
    "scrolled": true
   },
   "outputs": [],
   "source": [
    "generated_lyrics = generate(model_types=['gpt2'],\n",
    "                            lyric=\"\"\"I remember how you looked that day\\nand thought we would be together\\nuntil we were both old & gray\\nbut, after 7 years of happiness & 8 month's of hell\"\"\")\n"
   ]
  },
  {
   "cell_type": "code",
   "execution_count": null,
   "metadata": {},
   "outputs": [],
   "source": [
    "for generated_lyric in generated_lyrics:\n",
    "    split_generated_lyrics = generated_lyric[0].split('\\n')\n",
    "    for split_generated_lyric in split_generated_lyrics:\n",
    "        print(split_generated_lyric)"
   ]
  },
  {
   "cell_type": "code",
   "execution_count": null,
   "metadata": {},
   "outputs": [],
   "source": [
    "generated_lyrics = generate(model_types=['xlnet'],\n",
    "                            lyric=\"\"\"I remember how you looked that day\\nand thought we would be together\\nuntil we were both old & gray\\nbut, after 7 years of happiness & 8 month's of hell\"\"\")\n"
   ]
  },
  {
   "cell_type": "code",
   "execution_count": null,
   "metadata": {},
   "outputs": [],
   "source": [
    "for generated_lyric in generated_lyrics:\n",
    "    split_generated_lyrics = generated_lyric[0].split('\\n')\n",
    "    for split_generated_lyric in split_generated_lyrics:\n",
    "        print(split_generated_lyric)"
   ]
  },
  {
   "cell_type": "code",
   "execution_count": null,
   "metadata": {},
   "outputs": [],
   "source": [
    "generated_lyrics = generate(model_types=['ctrl'], # 'transfo-xl'], \n",
    "                            lyric=\"\"\"I remember how you looked that day\\nand thought we would be together\\nuntil we were both old & gray\\nbut, after 7 years of happiness & 8 month's of hell\"\"\")\n"
   ]
  },
  {
   "cell_type": "code",
   "execution_count": null,
   "metadata": {},
   "outputs": [],
   "source": [
    "for generated_lyric in generated_lyrics:\n",
    "    split_generated_lyrics = generated_lyric[0].split('\\n')\n",
    "    for split_generated_lyric in split_generated_lyrics:\n",
    "        print(split_generated_lyric)"
   ]
  },
  {
   "cell_type": "code",
   "execution_count": null,
   "metadata": {},
   "outputs": [],
   "source": [
    "generated_lyrics = generate(model_types=['xlm'], # 'transfo-xl'], \n",
    "                            lyric=\"\"\"I remember how you looked that day\\nand thought we would be together\\nuntil we were both old & gray\\nbut, after 7 years of happiness & 8 month's of hell\"\"\")\n"
   ]
  },
  {
   "cell_type": "code",
   "execution_count": null,
   "metadata": {},
   "outputs": [],
   "source": [
    "for generated_lyric in generated_lyrics:\n",
    "    split_generated_lyrics = generated_lyric[0].split('\\n')\n",
    "    for split_generated_lyric in split_generated_lyrics:\n",
    "        print(split_generated_lyric)"
   ]
  },
  {
   "cell_type": "code",
   "execution_count": null,
   "metadata": {},
   "outputs": [],
   "source": [
    "generated_lyrics = generate(model_types=['transfo-xl'], \n",
    "                            lyric=\"\"\"I remember how you looked that day\\nand thought we would be together\\nuntil we were both old & gray\\nbut, after 7 years of happiness & 8 month's of hell\"\"\")\n"
   ]
  },
  {
   "cell_type": "code",
   "execution_count": null,
   "metadata": {},
   "outputs": [],
   "source": [
    "for generated_lyric in generated_lyrics:\n",
    "    split_generated_lyrics = generated_lyric[0].split('\\n')\n",
    "    for split_generated_lyric in split_generated_lyrics:\n",
    "        print(split_generated_lyric)"
   ]
  }
 ],
 "metadata": {
  "kernelspec": {
   "display_name": "conda_python3",
   "language": "python",
   "name": "conda_python3"
  },
  "language_info": {
   "codemirror_mode": {
    "name": "ipython",
    "version": 3
   },
   "file_extension": ".py",
   "mimetype": "text/x-python",
   "name": "python",
   "nbconvert_exporter": "python",
   "pygments_lexer": "ipython3",
   "version": "3.6.5"
  }
 },
 "nbformat": 4,
 "nbformat_minor": 4
}
